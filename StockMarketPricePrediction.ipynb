{
  "nbformat": 4,
  "nbformat_minor": 0,
  "metadata": {
    "colab": {
      "name": "StockMarketPricePrediction.ipynb",
      "provenance": []
    },
    "kernelspec": {
      "name": "python3",
      "display_name": "Python 3"
    }
  },
  "cells": [
    {
      "cell_type": "code",
      "metadata": {
        "id": "aLXP4G_iebgj"
      },
      "source": [
        "#Description: This program shows you how to create a artificial recurrent neural network called Long Short Term Memory(LSTM).\n",
        "# How to predict the closing stock price of a corporation (Apple Inc.)."
      ],
      "execution_count": 1,
      "outputs": []
    },
    {
      "cell_type": "code",
      "metadata": {
        "colab": {
          "base_uri": "https://localhost:8080/"
        },
        "id": "F74vK3HXA4u7",
        "outputId": "7a7665f3-d28b-400c-d882-788f00d7b52e"
      },
      "source": [
        "!pip show pandas_datareader\n"
      ],
      "execution_count": 2,
      "outputs": [
        {
          "output_type": "stream",
          "name": "stdout",
          "text": [
            "Name: pandas-datareader\n",
            "Version: 0.10.0\n",
            "Summary: Data readers extracted from the pandas codebase,should be compatible with recent pandas versions\n",
            "Home-page: https://github.com/pydata/pandas-datareader\n",
            "Author: The PyData Development Team\n",
            "Author-email: pydata@googlegroups.com\n",
            "License: BSD License\n",
            "Location: /usr/local/lib/python3.7/dist-packages\n",
            "Requires: lxml, requests, pandas\n",
            "Required-by: \n"
          ]
        }
      ]
    },
    {
      "cell_type": "code",
      "metadata": {
        "id": "xSqeF7liiDMK"
      },
      "source": [
        "#Importing the required libraries\n",
        "import math\n",
        "import pandas_datareader as web\n",
        "import datetime\n",
        "import numpy as np\n",
        "import pandas as pd\n",
        "from sklearn.preprocessing import MinMaxScaler\n",
        "from keras.models import Sequential\n",
        "from keras.layers import Dense, LSTM\n",
        "import matplotlib.pyplot as plt\n",
        "plt.style.use('fivethirtyeight') #just the matplotlib style named as fivethirtyeight"
      ],
      "execution_count": 3,
      "outputs": []
    },
    {
      "cell_type": "code",
      "metadata": {
        "id": "sZB0piikjNsK",
        "colab": {
          "base_uri": "https://localhost:8080/",
          "height": 447
        },
        "outputId": "1b4b98d0-ba40-4688-c2fa-d950da016525"
      },
      "source": [
        "#Getting the stock quote \n",
        "start_date = datetime.datetime(2015, 1, 1)\n",
        "end_date = datetime.datetime(2021, 9, 29)\n",
        "#df = web.DataReader(\"PG\", \"yahoo\",start_date, end_date)\n",
        "#df = web.get_data_yahoo(\"AAPL\", start_date, end_date)\n",
        "df = web.DataReader('AAPL', data_source='yahoo', start=\"2012-01-01\", end=\"2021-01-01\") #dataframe captured using yahoo finances api\n",
        "\n",
        "df"
      ],
      "execution_count": 5,
      "outputs": [
        {
          "output_type": "execute_result",
          "data": {
            "text/html": [
              "<div>\n",
              "<style scoped>\n",
              "    .dataframe tbody tr th:only-of-type {\n",
              "        vertical-align: middle;\n",
              "    }\n",
              "\n",
              "    .dataframe tbody tr th {\n",
              "        vertical-align: top;\n",
              "    }\n",
              "\n",
              "    .dataframe thead th {\n",
              "        text-align: right;\n",
              "    }\n",
              "</style>\n",
              "<table border=\"1\" class=\"dataframe\">\n",
              "  <thead>\n",
              "    <tr style=\"text-align: right;\">\n",
              "      <th></th>\n",
              "      <th>High</th>\n",
              "      <th>Low</th>\n",
              "      <th>Open</th>\n",
              "      <th>Close</th>\n",
              "      <th>Volume</th>\n",
              "      <th>Adj Close</th>\n",
              "    </tr>\n",
              "    <tr>\n",
              "      <th>Date</th>\n",
              "      <th></th>\n",
              "      <th></th>\n",
              "      <th></th>\n",
              "      <th></th>\n",
              "      <th></th>\n",
              "      <th></th>\n",
              "    </tr>\n",
              "  </thead>\n",
              "  <tbody>\n",
              "    <tr>\n",
              "      <th>2012-01-03</th>\n",
              "      <td>14.732143</td>\n",
              "      <td>14.607143</td>\n",
              "      <td>14.621429</td>\n",
              "      <td>14.686786</td>\n",
              "      <td>302220800.0</td>\n",
              "      <td>12.591939</td>\n",
              "    </tr>\n",
              "    <tr>\n",
              "      <th>2012-01-04</th>\n",
              "      <td>14.810000</td>\n",
              "      <td>14.617143</td>\n",
              "      <td>14.642857</td>\n",
              "      <td>14.765714</td>\n",
              "      <td>260022000.0</td>\n",
              "      <td>12.659608</td>\n",
              "    </tr>\n",
              "    <tr>\n",
              "      <th>2012-01-05</th>\n",
              "      <td>14.948214</td>\n",
              "      <td>14.738214</td>\n",
              "      <td>14.819643</td>\n",
              "      <td>14.929643</td>\n",
              "      <td>271269600.0</td>\n",
              "      <td>12.800157</td>\n",
              "    </tr>\n",
              "    <tr>\n",
              "      <th>2012-01-06</th>\n",
              "      <td>15.098214</td>\n",
              "      <td>14.972143</td>\n",
              "      <td>14.991786</td>\n",
              "      <td>15.085714</td>\n",
              "      <td>318292800.0</td>\n",
              "      <td>12.933965</td>\n",
              "    </tr>\n",
              "    <tr>\n",
              "      <th>2012-01-09</th>\n",
              "      <td>15.276786</td>\n",
              "      <td>15.048214</td>\n",
              "      <td>15.196429</td>\n",
              "      <td>15.061786</td>\n",
              "      <td>394024400.0</td>\n",
              "      <td>12.913450</td>\n",
              "    </tr>\n",
              "    <tr>\n",
              "      <th>...</th>\n",
              "      <td>...</td>\n",
              "      <td>...</td>\n",
              "      <td>...</td>\n",
              "      <td>...</td>\n",
              "      <td>...</td>\n",
              "      <td>...</td>\n",
              "    </tr>\n",
              "    <tr>\n",
              "      <th>2020-12-24</th>\n",
              "      <td>133.460007</td>\n",
              "      <td>131.100006</td>\n",
              "      <td>131.320007</td>\n",
              "      <td>131.970001</td>\n",
              "      <td>54930100.0</td>\n",
              "      <td>131.161407</td>\n",
              "    </tr>\n",
              "    <tr>\n",
              "      <th>2020-12-28</th>\n",
              "      <td>137.339996</td>\n",
              "      <td>133.509995</td>\n",
              "      <td>133.990005</td>\n",
              "      <td>136.690002</td>\n",
              "      <td>124486200.0</td>\n",
              "      <td>135.852509</td>\n",
              "    </tr>\n",
              "    <tr>\n",
              "      <th>2020-12-29</th>\n",
              "      <td>138.789993</td>\n",
              "      <td>134.339996</td>\n",
              "      <td>138.050003</td>\n",
              "      <td>134.869995</td>\n",
              "      <td>121047300.0</td>\n",
              "      <td>134.043640</td>\n",
              "    </tr>\n",
              "    <tr>\n",
              "      <th>2020-12-30</th>\n",
              "      <td>135.990005</td>\n",
              "      <td>133.399994</td>\n",
              "      <td>135.580002</td>\n",
              "      <td>133.720001</td>\n",
              "      <td>96452100.0</td>\n",
              "      <td>132.900696</td>\n",
              "    </tr>\n",
              "    <tr>\n",
              "      <th>2020-12-31</th>\n",
              "      <td>134.740005</td>\n",
              "      <td>131.720001</td>\n",
              "      <td>134.080002</td>\n",
              "      <td>132.690002</td>\n",
              "      <td>99116600.0</td>\n",
              "      <td>131.876999</td>\n",
              "    </tr>\n",
              "  </tbody>\n",
              "</table>\n",
              "<p>2265 rows × 6 columns</p>\n",
              "</div>"
            ],
            "text/plain": [
              "                  High         Low  ...       Volume   Adj Close\n",
              "Date                                ...                         \n",
              "2012-01-03   14.732143   14.607143  ...  302220800.0   12.591939\n",
              "2012-01-04   14.810000   14.617143  ...  260022000.0   12.659608\n",
              "2012-01-05   14.948214   14.738214  ...  271269600.0   12.800157\n",
              "2012-01-06   15.098214   14.972143  ...  318292800.0   12.933965\n",
              "2012-01-09   15.276786   15.048214  ...  394024400.0   12.913450\n",
              "...                ...         ...  ...          ...         ...\n",
              "2020-12-24  133.460007  131.100006  ...   54930100.0  131.161407\n",
              "2020-12-28  137.339996  133.509995  ...  124486200.0  135.852509\n",
              "2020-12-29  138.789993  134.339996  ...  121047300.0  134.043640\n",
              "2020-12-30  135.990005  133.399994  ...   96452100.0  132.900696\n",
              "2020-12-31  134.740005  131.720001  ...   99116600.0  131.876999\n",
              "\n",
              "[2265 rows x 6 columns]"
            ]
          },
          "metadata": {},
          "execution_count": 5
        }
      ]
    },
    {
      "cell_type": "code",
      "metadata": {
        "id": "DetjITYSmtHu",
        "colab": {
          "base_uri": "https://localhost:8080/"
        },
        "outputId": "ba5a7d99-6d70-419a-fca6-d5d37338ad08"
      },
      "source": [
        "df.shape #Showing number of rows and cols"
      ],
      "execution_count": 6,
      "outputs": [
        {
          "output_type": "execute_result",
          "data": {
            "text/plain": [
              "(2265, 6)"
            ]
          },
          "metadata": {},
          "execution_count": 6
        }
      ]
    },
    {
      "cell_type": "code",
      "metadata": {
        "id": "GBSbfg5FnCdJ",
        "colab": {
          "base_uri": "https://localhost:8080/",
          "height": 558
        },
        "outputId": "9456f605-40b2-4476-82d5-d1f5b35c1023"
      },
      "source": [
        "#Plotting the closing price history graph using matplotlib library\n",
        "plt.figure(figsize=(16,8),edgecolor='Black')  #Graph with 16 inch width and 8 inch height and border color black\n",
        "plt.title('Close Price History')  #Title of the graph\n",
        "plt.plot(df['Close']) #Plotting using dataframe df with only colomn name close\n",
        "plt.xlabel('Date',fontsize=18)  #label of graph on x-axis\n",
        "plt.ylabel('Close Price USD ($)',fontsize=18) #label of graph on y-axis\n",
        "plt.show()"
      ],
      "execution_count": 7,
      "outputs": [
        {
          "output_type": "display_data",
          "data": {
            "image/png": "[encoded data removed]",
            "text/plain": [
              "<Figure size 1152x576 with 1 Axes>"
            ]
          },
          "metadata": {}
        }
      ]
    },
    {
      "cell_type": "code",
      "metadata": {
        "id": "h6WoELLTokbD"
      },
      "source": [
        "#Create a new dataframe with only the 'Close' column\n",
        "data = df.filter(['Close'])\n",
        "#Converting the dataframe to a numpy array\n",
        "dataset = data.values\n",
        "#Compute the number of rows to train the model on\n",
        "training_data_len = math.ceil( len(dataset) *.8) #Considering the 80% of data in training data"
      ],
      "execution_count": 8,
      "outputs": []
    },
    {
      "cell_type": "code",
      "metadata": {
        "id": "m9JL6ELApbF2"
      },
      "source": [
        "#Scale all of the data to be values between 0 and 1 \n",
        "scaler = MinMaxScaler(feature_range=(0, 1)) #Using MinMaxScaler function for scaling the data as it is good if we use preprocessed data\n",
        "scaled_data = scaler.fit_transform(dataset) #Transforming the dataset into scaled data in range of 0 and 1 inclusive."
      ],
      "execution_count": 9,
      "outputs": []
    },
    {
      "cell_type": "code",
      "metadata": {
        "id": "BxnL5KYEsnlZ"
      },
      "source": [
        "#Create the scaled training data set \n",
        "train_data = scaled_data[0:training_data_len  , : ] #Taking rows from 0 to 80% of whole data and all columns\n",
        "#Split the data into x_train and y_train data sets\n",
        "x_train=[]\n",
        "y_train = []\n",
        "\n",
        "for i in range(60,len(train_data)):\n",
        "    x_train.append(train_data[i-60:i,0])  #x train contains 1st 59 data set\n",
        "    y_train.append(train_data[i,0]) #y train contains remaining data sets"
      ],
      "execution_count": 10,
      "outputs": []
    },
    {
      "cell_type": "code",
      "metadata": {
        "id": "8lzwGdpItRTh"
      },
      "source": [
        "#Convert x_train and y_train to numpy arrays, so we can use them for training\n",
        "x_train, y_train = np.array(x_train), np.array(y_train)"
      ],
      "execution_count": 11,
      "outputs": []
    },
    {
      "cell_type": "code",
      "metadata": {
        "id": "zSqsP45juTvq"
      },
      "source": [
        "#Reshape the data into the shape accepted by the LSTM that is 3 dimensional\n",
        "x_train = np.reshape(x_train, (x_train.shape[0],x_train.shape[1],1))"
      ],
      "execution_count": 12,
      "outputs": []
    },
    {
      "cell_type": "code",
      "metadata": {
        "id": "CbVvi2JUunJV"
      },
      "source": [
        "#Build the LSTM network model\n",
        "model = Sequential()  #Building model using keras library\n",
        "model.add(LSTM(units=50, return_sequences=True,input_shape=(x_train.shape[1],1))) #1st LSTM layer with 50 neurons and kepping return sequences to true\n",
        "model.add(LSTM(units=50, return_sequences=False)) #2nd LSTM layer with 50 neurons and kepping return sequences to false\n",
        "model.add(Dense(units=25))  #3rd Dense layer of 25 neurons\n",
        "model.add(Dense(units=1)) #4th Dense layer of 25 neurons"
      ],
      "execution_count": 13,
      "outputs": []
    },
    {
      "cell_type": "code",
      "metadata": {
        "id": "3XeqUOG2v6tY"
      },
      "source": [
        "#Compile the model\n",
        "#Adam optimizer is used because it is straight forward to use and it can be used instead of Stochastic optimization\n",
        "#mean_squared_parameter Computes the mean of squares of errors between labels and predictions\n",
        "model.compile(optimizer='adam', loss='mean_squared_error')"
      ],
      "execution_count": 14,
      "outputs": []
    },
    {
      "cell_type": "code",
      "metadata": {
        "id": "wqz2W21hx03_",
        "colab": {
          "base_uri": "https://localhost:8080/"
        },
        "outputId": "3d34638a-8f5b-4d12-e19a-364f1e653834"
      },
      "source": [
        "#Train the model\n",
        "model.fit(x_train, y_train, batch_size=1, epochs=1) \n",
        "#fit is another name for train\n",
        "#batch size is total number of training example present \n",
        "#epochs is number of iterations when entire data set is passed forward or backward through neural network"
      ],
      "execution_count": 15,
      "outputs": [
        {
          "output_type": "stream",
          "name": "stdout",
          "text": [
            "1752/1752 [==============================] - 52s 28ms/step - loss: 2.6711e-04\n"
          ]
        },
        {
          "output_type": "execute_result",
          "data": {
            "text/plain": [
              "<keras.callbacks.History at 0x7f5e0acb9dd0>"
            ]
          },
          "metadata": {},
          "execution_count": 15
        }
      ]
    },
    {
      "cell_type": "code",
      "metadata": {
        "id": "G3ixyNzYyh57"
      },
      "source": [
        "#Test data set\n",
        "test_data = scaled_data[training_data_len - 60: , : ]\n",
        "#Create the x_test and y_test data sets\n",
        "x_test = []\n",
        "y_test =  dataset[training_data_len : , : ] \n",
        "#Get all of the rows from index 1762 to the rest and all of the columns (in this case it's only column 'Close'), so 2202 - 1762 = 440 rows of data\n",
        "\n",
        "for i in range(60,len(test_data)):\n",
        "    x_test.append(test_data[i-60:i,0])"
      ],
      "execution_count": 16,
      "outputs": []
    },
    {
      "cell_type": "code",
      "metadata": {
        "id": "UQQzUj5T0YxF"
      },
      "source": [
        "#Convert x_test to a numpy array \n",
        "x_test = np.array(x_test)"
      ],
      "execution_count": 17,
      "outputs": []
    },
    {
      "cell_type": "code",
      "metadata": {
        "id": "BCGYv71u0Yth"
      },
      "source": [
        "#Similarly, reshape the data into the shape accepted by the LSTM that is 3 dimensional\n",
        "x_test = np.reshape(x_test, (x_test.shape[0],x_test.shape[1],1))"
      ],
      "execution_count": 18,
      "outputs": []
    },
    {
      "cell_type": "code",
      "metadata": {
        "id": "Ji2_TySI01rj"
      },
      "source": [
        "#Getting the models predicted price values by test data\n",
        "predictions = model.predict(x_test) \n",
        "predictions = scaler.inverse_transform(predictions)#When the binary labels are fractional, inverse_transform chooses the class with the greatest value"
      ],
      "execution_count": 19,
      "outputs": []
    },
    {
      "cell_type": "code",
      "metadata": {
        "id": "I7ssJgyH1CEK",
        "colab": {
          "base_uri": "https://localhost:8080/"
        },
        "outputId": "d44804c2-12e8-49ac-cf85-39cbb1ae52d8"
      },
      "source": [
        "#Calculating the value of RootMeanSquaredError(RMSE)\n",
        "rmse=np.sqrt(np.mean(((predictions- y_test)**2)))\n",
        "rmse\n",
        "#It is a great way to find how accurate the model is\n",
        "#The lower the value, the better is the model performing"
      ],
      "execution_count": 20,
      "outputs": [
        {
          "output_type": "execute_result",
          "data": {
            "text/plain": [
              "7.953206463147004"
            ]
          },
          "metadata": {},
          "execution_count": 20
        }
      ]
    },
    {
      "cell_type": "code",
      "metadata": {
        "id": "5g4KTLKV2Aq2",
        "colab": {
          "base_uri": "https://localhost:8080/",
          "height": 659
        },
        "outputId": "2accd6dd-81b4-42c5-8735-2d5c79f21c90"
      },
      "source": [
        "#Plot the data for the graph\n",
        "train = data[:training_data_len]  #This is the range on what the model is trained on\n",
        "valid = data[training_data_len:]  #This is the predicted data \n",
        "valid['Predictions'] = predictions\n",
        "\n",
        "#Visualize the data\n",
        "plt.figure(figsize=(16,8))\n",
        "plt.title('Model')\n",
        "plt.xlabel('Date', fontsize=18)\n",
        "plt.ylabel('Close Price USD ($)', fontsize=18)\n",
        "plt.plot(train['Close'])\n",
        "plt.plot(valid[['Close', 'Predictions']])\n",
        "plt.legend(['Train', 'Valid', 'Predictions'], loc='lower right')\n",
        "plt.show()"
      ],
      "execution_count": 21,
      "outputs": [
        {
          "output_type": "stream",
          "name": "stderr",
          "text": [
            "/usr/local/lib/python3.7/dist-packages/ipykernel_launcher.py:4: SettingWithCopyWarning: \n",
            "A value is trying to be set on a copy of a slice from a DataFrame.\n",
            "Try using .loc[row_indexer,col_indexer] = value instead\n",
            "\n",
            "See the caveats in the documentation: https://pandas.pydata.org/pandas-docs/stable/user_guide/indexing.html#returning-a-view-versus-a-copy\n",
            "  after removing the cwd from sys.path.\n"
          ]
        },
        {
          "output_type": "display_data",
          "data": {
            "image/png": "[encoded data removed]",
            "text/plain": [
              "<Figure size 1152x576 with 1 Axes>"
            ]
          },
          "metadata": {}
        }
      ]
    },
    {
      "cell_type": "code",
      "metadata": {
        "id": "s2dJZsff4APn",
        "colab": {
          "base_uri": "https://localhost:8080/",
          "height": 447
        },
        "outputId": "4da8c13b-d943-4c82-e178-5e627c859fed"
      },
      "source": [
        "#Showing the valid and predicted prices\n",
        "valid"
      ],
      "execution_count": 22,
      "outputs": [
        {
          "output_type": "execute_result",
          "data": {
            "text/html": [
              "<div>\n",
              "<style scoped>\n",
              "    .dataframe tbody tr th:only-of-type {\n",
              "        vertical-align: middle;\n",
              "    }\n",
              "\n",
              "    .dataframe tbody tr th {\n",
              "        vertical-align: top;\n",
              "    }\n",
              "\n",
              "    .dataframe thead th {\n",
              "        text-align: right;\n",
              "    }\n",
              "</style>\n",
              "<table border=\"1\" class=\"dataframe\">\n",
              "  <thead>\n",
              "    <tr style=\"text-align: right;\">\n",
              "      <th></th>\n",
              "      <th>Close</th>\n",
              "      <th>Predictions</th>\n",
              "    </tr>\n",
              "    <tr>\n",
              "      <th>Date</th>\n",
              "      <th></th>\n",
              "      <th></th>\n",
              "    </tr>\n",
              "  </thead>\n",
              "  <tbody>\n",
              "    <tr>\n",
              "      <th>2019-03-19</th>\n",
              "      <td>46.632500</td>\n",
              "      <td>43.751671</td>\n",
              "    </tr>\n",
              "    <tr>\n",
              "      <th>2019-03-20</th>\n",
              "      <td>47.040001</td>\n",
              "      <td>44.086636</td>\n",
              "    </tr>\n",
              "    <tr>\n",
              "      <th>2019-03-21</th>\n",
              "      <td>48.772499</td>\n",
              "      <td>44.390392</td>\n",
              "    </tr>\n",
              "    <tr>\n",
              "      <th>2019-03-22</th>\n",
              "      <td>47.762501</td>\n",
              "      <td>44.829693</td>\n",
              "    </tr>\n",
              "    <tr>\n",
              "      <th>2019-03-25</th>\n",
              "      <td>47.185001</td>\n",
              "      <td>45.172554</td>\n",
              "    </tr>\n",
              "    <tr>\n",
              "      <th>...</th>\n",
              "      <td>...</td>\n",
              "      <td>...</td>\n",
              "    </tr>\n",
              "    <tr>\n",
              "      <th>2020-12-24</th>\n",
              "      <td>131.970001</td>\n",
              "      <td>114.250397</td>\n",
              "    </tr>\n",
              "    <tr>\n",
              "      <th>2020-12-28</th>\n",
              "      <td>136.690002</td>\n",
              "      <td>114.932457</td>\n",
              "    </tr>\n",
              "    <tr>\n",
              "      <th>2020-12-29</th>\n",
              "      <td>134.869995</td>\n",
              "      <td>116.036354</td>\n",
              "    </tr>\n",
              "    <tr>\n",
              "      <th>2020-12-30</th>\n",
              "      <td>133.720001</td>\n",
              "      <td>116.926086</td>\n",
              "    </tr>\n",
              "    <tr>\n",
              "      <th>2020-12-31</th>\n",
              "      <td>132.690002</td>\n",
              "      <td>117.487045</td>\n",
              "    </tr>\n",
              "  </tbody>\n",
              "</table>\n",
              "<p>453 rows × 2 columns</p>\n",
              "</div>"
            ],
            "text/plain": [
              "                 Close  Predictions\n",
              "Date                               \n",
              "2019-03-19   46.632500    43.751671\n",
              "2019-03-20   47.040001    44.086636\n",
              "2019-03-21   48.772499    44.390392\n",
              "2019-03-22   47.762501    44.829693\n",
              "2019-03-25   47.185001    45.172554\n",
              "...                ...          ...\n",
              "2020-12-24  131.970001   114.250397\n",
              "2020-12-28  136.690002   114.932457\n",
              "2020-12-29  134.869995   116.036354\n",
              "2020-12-30  133.720001   116.926086\n",
              "2020-12-31  132.690002   117.487045\n",
              "\n",
              "[453 rows x 2 columns]"
            ]
          },
          "metadata": {},
          "execution_count": 22
        }
      ]
    },
    {
      "cell_type": "code",
      "metadata": {
        "id": "mQZfKomQ7UWa"
      },
      "source": [
        "#So, this is the whole project and the accuracy is very good and the predicted values are very close."
      ],
      "execution_count": 23,
      "outputs": []
    },
    {
      "cell_type": "code",
      "metadata": {
        "id": "fUN69umiWXAY",
        "colab": {
          "base_uri": "https://localhost:8080/"
        },
        "outputId": "1a982ee2-159b-4da3-e500-6f4172434004"
      },
      "source": [
        "#Get the quote\n",
        "apple_quote = web.DataReader('AAPL', data_source='yahoo', start='2012-01-01', end='2020-10-5')\n",
        "#Create a new dataframe\n",
        "new_df = apple_quote.filter(['Close'])\n",
        "#Get teh last 60 day closing price \n",
        "last_60_days = new_df[-60:].values\n",
        "#Scale the data to be values between 0 and 1\n",
        "last_60_days_scaled = scaler.transform(last_60_days)\n",
        "#Create an empty list\n",
        "X_test = []\n",
        "#Append teh past 60 days\n",
        "X_test.append(last_60_days_scaled)\n",
        "#Convert the X_test data set to a numpy array\n",
        "X_test = np.array(X_test)\n",
        "#Reshape the data\n",
        "X_test = np.reshape(X_test, (X_test.shape[0], X_test.shape[1], 1))\n",
        "#Get the predicted scaled price\n",
        "pred_price = model.predict(X_test)\n",
        "#undo the scaling \n",
        "pred_price = scaler.inverse_transform(pred_price)\n",
        "print(pred_price)"
      ],
      "execution_count": 24,
      "outputs": [
        {
          "output_type": "stream",
          "name": "stdout",
          "text": [
            "[[103.47086]]\n"
          ]
        }
      ]
    },
    {
      "cell_type": "code",
      "metadata": {
        "id": "HV7g24OoWu5L",
        "colab": {
          "base_uri": "https://localhost:8080/"
        },
        "outputId": "00f66192-53d2-4cd9-b7e7-ea7b2d08adae"
      },
      "source": [
        "#Get the quote\n",
        "apple_quote2 = web.DataReader('AAPL', data_source='yahoo', start='2020-9-11', end='2020-9-11')\n",
        "print(apple_quote2['Close'])"
      ],
      "execution_count": 25,
      "outputs": [
        {
          "output_type": "stream",
          "name": "stdout",
          "text": [
            "Date\n",
            "2020-09-11    112\n",
            "Name: Close, dtype: int64\n"
          ]
        }
      ]
    }
  ]
}